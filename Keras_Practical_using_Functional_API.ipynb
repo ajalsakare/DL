{
  "nbformat": 4,
  "nbformat_minor": 0,
  "metadata": {
    "colab": {
      "provenance": [],
      "collapsed_sections": []
    },
    "kernelspec": {
      "name": "python3",
      "display_name": "Python 3"
    },
    "language_info": {
      "name": "python"
    },
    "accelerator": "GPU",
    "gpuClass": "standard"
  },
  "cells": [
    {
      "cell_type": "code",
      "execution_count": null,
      "metadata": {
        "id": "HKcRf0gyZ2r6"
      },
      "outputs": [],
      "source": [
        "#import the necessary libraries\n",
        "import numpy as np\n",
        "from matplotlib import pyplot as plt\n",
        "from keras.models import Model\n",
        "from keras.layers import Input, Dense, Dropout"
      ]
    },
    {
      "cell_type": "code",
      "source": [
        "#define a random seed\n",
        "np.random.seed(42)\n",
        " \n",
        "#create random points for the x and y axis from 0 to 20\n",
        "xs = np.linspace(0, 20, 50)\n",
        "ys = np.linspace(20, 0, 50)\n",
        " \n",
        "# add some positive and negative noise on the y axis\n",
        "ys += np.random.uniform(-2, 2, 50)\n",
        " \n",
        "#plot the graph\n",
        "plt.plot(xs, ys, '.');"
      ],
      "metadata": {
        "id": "jveLeJ8nvGdd"
      },
      "execution_count": null,
      "outputs": []
    },
    {
      "cell_type": "code",
      "source": [
        "#create the input layer\n",
        "input_layer = Input(shape=(1, ))\n",
        " \n",
        "#create the other hidden layers and the output layer\n",
        "hidden_1 = Dense(64, activation='relu')(input_layer)\n",
        "hidden_2 = Dense(32, activation='relu')(hidden_1)\n",
        "output = Dense(1, activation='linear')(hidden_2)"
      ],
      "metadata": {
        "id": "fCcGy8TSvJcF"
      },
      "execution_count": null,
      "outputs": []
    },
    {
      "cell_type": "code",
      "source": [
        "model = Model(inputs=input_layer, outputs=output)"
      ],
      "metadata": {
        "id": "SkSa7M6vvTko"
      },
      "execution_count": null,
      "outputs": []
    },
    {
      "cell_type": "code",
      "source": [
        "from keras.utils.vis_utils import plot_model\n",
        " \n",
        "plot_model(model)"
      ],
      "metadata": {
        "colab": {
          "base_uri": "https://localhost:8080/",
          "height": 369
        },
        "id": "SpEgF9hZvVwv",
        "outputId": "c36fc755-1c03-481d-b527-93a4ada9b57c"
      },
      "execution_count": null,
      "outputs": [
        {
          "output_type": "execute_result",
          "data": {
            "image/png": "[encoded data removed]",
            "text/plain": [
              "<IPython.core.display.Image object>"
            ]
          },
          "metadata": {},
          "execution_count": 6
        }
      ]
    },
    {
      "cell_type": "code",
      "source": [
        "model.compile(optimizer='adam', loss='mse')\n",
        "history = model.fit(xs, ys, epochs=200)"
      ],
      "metadata": {
        "id": "n6jvXTWNvYCv"
      },
      "execution_count": null,
      "outputs": []
    },
    {
      "cell_type": "code",
      "source": [
        "#model makes prediction\n",
        "y_pred = model.predict(xs)\n",
        " \n",
        "#plot the graph\n",
        "plt.plot(xs, y_pred, 'k', label='Predicted')\n",
        "plt.scatter(xs, ys, label='True')\n",
        "plt.legend()\n",
        "plt.xlabel('X Axis')\n",
        "plt.ylabel('Y Axis')\n",
        "plt.title('A plot to show the prediction of the model')\n",
        ";"
      ],
      "metadata": {
        "id": "1gfqtHedvk6G"
      },
      "execution_count": null,
      "outputs": []
    },
    {
      "cell_type": "code",
      "source": [],
      "metadata": {
        "id": "aUo5YruDvrNU"
      },
      "execution_count": null,
      "outputs": []
    },
    {
      "cell_type": "markdown",
      "source": [
        "**Functional API with shared Input Layer**"
      ],
      "metadata": {
        "id": "Ei5cS5WGyz1g"
      }
    },
    {
      "cell_type": "code",
      "source": [
        "from keras.layers import merge\n",
        "#create the input layer\n",
        "input_layer = Input(shape=(1, ))\n",
        " \n",
        "#create two hidden layers with shared input layer\n",
        "hidden_1 = Dense(64, activation='relu')(input_layer)\n",
        "hidden_2 = Dense(64, activation='relu')(input_layer)\n",
        " \n",
        "#merge the two layers \n",
        "merged_layers = merge.concatenate([hidden_1, hidden_2])\n",
        " \n",
        "#built the rest of the layers\n",
        "hidden_3 = Dense(32, activation='relu')(merged_layers)\n",
        "output = Dense(1, activation='linear')(hidden_3)\n",
        " \n",
        "model = Model(inputs=input_layer, outputs=output)"
      ],
      "metadata": {
        "id": "BMGYRuL4y49f"
      },
      "execution_count": null,
      "outputs": []
    },
    {
      "cell_type": "code",
      "source": [
        "from keras.utils.vis_utils import plot_model\n",
        " \n",
        "plot_model(model)"
      ],
      "metadata": {
        "colab": {
          "base_uri": "https://localhost:8080/",
          "height": 466
        },
        "id": "j8RQKM2Xy5oV",
        "outputId": "d1dc97c4-ddcd-43d2-d463-546d21aaa9de"
      },
      "execution_count": null,
      "outputs": [
        {
          "output_type": "execute_result",
          "data": {
            "image/png": "[encoded data removed]",
            "text/plain": [
              "<IPython.core.display.Image object>"
            ]
          },
          "metadata": {},
          "execution_count": 10
        }
      ]
    },
    {
      "cell_type": "code",
      "source": [
        "model.summary()"
      ],
      "metadata": {
        "colab": {
          "base_uri": "https://localhost:8080/"
        },
        "id": "hGYz_QnhzAl9",
        "outputId": "dbd120a7-0990-4da1-8b48-18e411016ea5"
      },
      "execution_count": null,
      "outputs": [
        {
          "output_type": "stream",
          "name": "stdout",
          "text": [
            "Model: \"model_1\"\n",
            "__________________________________________________________________________________________________\n",
            " Layer (type)                   Output Shape         Param #     Connected to                     \n",
            "==================================================================================================\n",
            " input_2 (InputLayer)           [(None, 1)]          0           []                               \n",
            "                                                                                                  \n",
            " dense_3 (Dense)                (None, 64)           128         ['input_2[0][0]']                \n",
            "                                                                                                  \n",
            " dense_4 (Dense)                (None, 64)           128         ['input_2[0][0]']                \n",
            "                                                                                                  \n",
            " concatenate (Concatenate)      (None, 128)          0           ['dense_3[0][0]',                \n",
            "                                                                  'dense_4[0][0]']                \n",
            "                                                                                                  \n",
            " dense_5 (Dense)                (None, 32)           4128        ['concatenate[0][0]']            \n",
            "                                                                                                  \n",
            " dense_6 (Dense)                (None, 1)            33          ['dense_5[0][0]']                \n",
            "                                                                                                  \n",
            "==================================================================================================\n",
            "Total params: 4,417\n",
            "Trainable params: 4,417\n",
            "Non-trainable params: 0\n",
            "__________________________________________________________________________________________________\n"
          ]
        }
      ]
    },
    {
      "cell_type": "code",
      "source": [
        "model.compile(optimizer='adam', loss='mse')\n",
        "history = model.fit(xs, ys, epochs=200)"
      ],
      "metadata": {
        "colab": {
          "base_uri": "https://localhost:8080/"
        },
        "id": "GTRBN4vSzJJb",
        "outputId": "289ce7ad-9306-4600-9a72-3d24c5355757"
      },
      "execution_count": null,
      "outputs": [
        {
          "output_type": "stream",
          "name": "stdout",
          "text": [
            "Epoch 1/200\n",
            "2/2 [==============================] - 1s 11ms/step - loss: 121.5847\n",
            "Epoch 2/200\n",
            "2/2 [==============================] - 0s 10ms/step - loss: 114.9899\n",
            "Epoch 3/200\n",
            "2/2 [==============================] - 0s 12ms/step - loss: 109.9136\n",
            "Epoch 4/200\n",
            "2/2 [==============================] - 0s 6ms/step - loss: 106.6421\n",
            "Epoch 5/200\n",
            "2/2 [==============================] - 0s 6ms/step - loss: 104.4721\n",
            "Epoch 6/200\n",
            "2/2 [==============================] - 0s 6ms/step - loss: 103.6982\n",
            "Epoch 7/200\n",
            "2/2 [==============================] - 0s 27ms/step - loss: 102.3031\n",
            "Epoch 8/200\n",
            "2/2 [==============================] - 0s 11ms/step - loss: 102.1731\n",
            "Epoch 9/200\n",
            "2/2 [==============================] - 0s 14ms/step - loss: 102.1293\n",
            "Epoch 10/200\n",
            "2/2 [==============================] - 0s 6ms/step - loss: 102.3964\n",
            "Epoch 11/200\n",
            "2/2 [==============================] - 0s 6ms/step - loss: 102.5891\n",
            "Epoch 12/200\n",
            "2/2 [==============================] - 0s 5ms/step - loss: 102.7527\n",
            "Epoch 13/200\n",
            "2/2 [==============================] - 0s 8ms/step - loss: 102.4172\n",
            "Epoch 14/200\n",
            "2/2 [==============================] - 0s 8ms/step - loss: 101.8467\n",
            "Epoch 15/200\n",
            "2/2 [==============================] - 0s 15ms/step - loss: 101.5513\n",
            "Epoch 16/200\n",
            "2/2 [==============================] - 0s 6ms/step - loss: 101.1279\n",
            "Epoch 17/200\n",
            "2/2 [==============================] - 0s 4ms/step - loss: 100.6729\n",
            "Epoch 18/200\n",
            "2/2 [==============================] - 0s 7ms/step - loss: 100.1838\n",
            "Epoch 19/200\n",
            "2/2 [==============================] - 0s 6ms/step - loss: 99.6661\n",
            "Epoch 20/200\n",
            "2/2 [==============================] - 0s 6ms/step - loss: 99.3738\n",
            "Epoch 21/200\n",
            "2/2 [==============================] - 0s 6ms/step - loss: 99.1126\n",
            "Epoch 22/200\n",
            "2/2 [==============================] - 0s 6ms/step - loss: 98.7848\n",
            "Epoch 23/200\n",
            "2/2 [==============================] - 0s 4ms/step - loss: 98.3790\n",
            "Epoch 24/200\n",
            "2/2 [==============================] - 0s 6ms/step - loss: 98.0987\n",
            "Epoch 25/200\n",
            "2/2 [==============================] - 0s 8ms/step - loss: 97.8030\n",
            "Epoch 26/200\n",
            "2/2 [==============================] - 0s 8ms/step - loss: 97.4305\n",
            "Epoch 27/200\n",
            "2/2 [==============================] - 0s 10ms/step - loss: 97.0206\n",
            "Epoch 28/200\n",
            "2/2 [==============================] - 0s 12ms/step - loss: 96.6674\n",
            "Epoch 29/200\n",
            "2/2 [==============================] - 0s 7ms/step - loss: 96.3225\n",
            "Epoch 30/200\n",
            "2/2 [==============================] - 0s 6ms/step - loss: 95.9835\n",
            "Epoch 31/200\n",
            "2/2 [==============================] - 0s 7ms/step - loss: 95.6554\n",
            "Epoch 32/200\n",
            "2/2 [==============================] - 0s 7ms/step - loss: 95.3018\n",
            "Epoch 33/200\n",
            "2/2 [==============================] - 0s 7ms/step - loss: 94.8073\n",
            "Epoch 34/200\n",
            "2/2 [==============================] - 0s 7ms/step - loss: 94.3727\n",
            "Epoch 35/200\n",
            "2/2 [==============================] - 0s 6ms/step - loss: 94.0303\n",
            "Epoch 36/200\n",
            "2/2 [==============================] - 0s 8ms/step - loss: 93.5593\n",
            "Epoch 37/200\n",
            "2/2 [==============================] - 0s 6ms/step - loss: 93.2194\n",
            "Epoch 38/200\n",
            "2/2 [==============================] - 0s 6ms/step - loss: 92.5731\n",
            "Epoch 39/200\n",
            "2/2 [==============================] - 0s 6ms/step - loss: 92.1659\n",
            "Epoch 40/200\n",
            "2/2 [==============================] - 0s 7ms/step - loss: 92.4555\n",
            "Epoch 41/200\n",
            "2/2 [==============================] - 0s 7ms/step - loss: 91.2181\n",
            "Epoch 42/200\n",
            "2/2 [==============================] - 0s 6ms/step - loss: 91.1697\n",
            "Epoch 43/200\n",
            "2/2 [==============================] - 0s 6ms/step - loss: 90.4097\n",
            "Epoch 44/200\n",
            "2/2 [==============================] - 0s 8ms/step - loss: 89.8985\n",
            "Epoch 45/200\n",
            "2/2 [==============================] - 0s 6ms/step - loss: 89.3464\n",
            "Epoch 46/200\n",
            "2/2 [==============================] - 0s 7ms/step - loss: 88.7583\n",
            "Epoch 47/200\n",
            "2/2 [==============================] - 0s 7ms/step - loss: 88.2041\n",
            "Epoch 48/200\n",
            "2/2 [==============================] - 0s 6ms/step - loss: 87.6705\n",
            "Epoch 49/200\n",
            "2/2 [==============================] - 0s 6ms/step - loss: 87.1612\n",
            "Epoch 50/200\n",
            "2/2 [==============================] - 0s 7ms/step - loss: 86.5843\n",
            "Epoch 51/200\n",
            "2/2 [==============================] - 0s 7ms/step - loss: 86.0856\n",
            "Epoch 52/200\n",
            "2/2 [==============================] - 0s 6ms/step - loss: 85.2835\n",
            "Epoch 53/200\n",
            "2/2 [==============================] - 0s 6ms/step - loss: 84.8431\n",
            "Epoch 54/200\n",
            "2/2 [==============================] - 0s 7ms/step - loss: 84.3674\n",
            "Epoch 55/200\n",
            "2/2 [==============================] - 0s 6ms/step - loss: 83.4489\n",
            "Epoch 56/200\n",
            "2/2 [==============================] - 0s 6ms/step - loss: 82.8032\n",
            "Epoch 57/200\n",
            "2/2 [==============================] - 0s 7ms/step - loss: 82.1731\n",
            "Epoch 58/200\n",
            "2/2 [==============================] - 0s 6ms/step - loss: 81.5337\n",
            "Epoch 59/200\n",
            "2/2 [==============================] - 0s 6ms/step - loss: 80.9751\n",
            "Epoch 60/200\n",
            "2/2 [==============================] - 0s 6ms/step - loss: 80.1105\n",
            "Epoch 61/200\n",
            "2/2 [==============================] - 0s 6ms/step - loss: 79.2412\n",
            "Epoch 62/200\n",
            "2/2 [==============================] - 0s 7ms/step - loss: 78.6136\n",
            "Epoch 63/200\n",
            "2/2 [==============================] - 0s 5ms/step - loss: 77.8191\n",
            "Epoch 64/200\n",
            "2/2 [==============================] - 0s 9ms/step - loss: 77.0438\n",
            "Epoch 65/200\n",
            "2/2 [==============================] - 0s 7ms/step - loss: 76.2399\n",
            "Epoch 66/200\n",
            "2/2 [==============================] - 0s 7ms/step - loss: 75.4262\n",
            "Epoch 67/200\n",
            "2/2 [==============================] - 0s 6ms/step - loss: 74.5247\n",
            "Epoch 68/200\n",
            "2/2 [==============================] - 0s 7ms/step - loss: 73.7997\n",
            "Epoch 69/200\n",
            "2/2 [==============================] - 0s 6ms/step - loss: 72.8305\n",
            "Epoch 70/200\n",
            "2/2 [==============================] - 0s 6ms/step - loss: 72.0899\n",
            "Epoch 71/200\n",
            "2/2 [==============================] - 0s 6ms/step - loss: 71.1760\n",
            "Epoch 72/200\n",
            "2/2 [==============================] - 0s 6ms/step - loss: 70.1610\n",
            "Epoch 73/200\n",
            "2/2 [==============================] - 0s 6ms/step - loss: 69.2930\n",
            "Epoch 74/200\n",
            "2/2 [==============================] - 0s 9ms/step - loss: 68.1993\n",
            "Epoch 75/200\n",
            "2/2 [==============================] - 0s 7ms/step - loss: 67.1591\n",
            "Epoch 76/200\n",
            "2/2 [==============================] - 0s 6ms/step - loss: 66.3953\n",
            "Epoch 77/200\n",
            "2/2 [==============================] - 0s 6ms/step - loss: 65.4384\n",
            "Epoch 78/200\n",
            "2/2 [==============================] - 0s 6ms/step - loss: 64.4355\n",
            "Epoch 79/200\n",
            "2/2 [==============================] - 0s 6ms/step - loss: 63.2149\n",
            "Epoch 80/200\n",
            "2/2 [==============================] - 0s 6ms/step - loss: 62.0932\n",
            "Epoch 81/200\n",
            "2/2 [==============================] - 0s 7ms/step - loss: 61.3842\n",
            "Epoch 82/200\n",
            "2/2 [==============================] - 0s 7ms/step - loss: 60.0236\n",
            "Epoch 83/200\n",
            "2/2 [==============================] - 0s 6ms/step - loss: 59.0208\n",
            "Epoch 84/200\n",
            "2/2 [==============================] - 0s 9ms/step - loss: 57.6140\n",
            "Epoch 85/200\n",
            "2/2 [==============================] - 0s 6ms/step - loss: 56.5117\n",
            "Epoch 86/200\n",
            "2/2 [==============================] - 0s 7ms/step - loss: 55.4243\n",
            "Epoch 87/200\n",
            "2/2 [==============================] - 0s 7ms/step - loss: 54.2016\n",
            "Epoch 88/200\n",
            "2/2 [==============================] - 0s 6ms/step - loss: 53.0056\n",
            "Epoch 89/200\n",
            "2/2 [==============================] - 0s 7ms/step - loss: 51.6987\n",
            "Epoch 90/200\n",
            "2/2 [==============================] - 0s 7ms/step - loss: 50.4744\n",
            "Epoch 91/200\n",
            "2/2 [==============================] - 0s 7ms/step - loss: 49.2651\n",
            "Epoch 92/200\n",
            "2/2 [==============================] - 0s 7ms/step - loss: 48.1429\n",
            "Epoch 93/200\n",
            "2/2 [==============================] - 0s 7ms/step - loss: 46.8858\n",
            "Epoch 94/200\n",
            "2/2 [==============================] - 0s 8ms/step - loss: 45.3863\n",
            "Epoch 95/200\n",
            "2/2 [==============================] - 0s 7ms/step - loss: 44.1624\n",
            "Epoch 96/200\n",
            "2/2 [==============================] - 0s 10ms/step - loss: 42.8643\n",
            "Epoch 97/200\n",
            "2/2 [==============================] - 0s 6ms/step - loss: 41.6963\n",
            "Epoch 98/200\n",
            "2/2 [==============================] - 0s 6ms/step - loss: 40.2878\n",
            "Epoch 99/200\n",
            "2/2 [==============================] - 0s 10ms/step - loss: 39.0185\n",
            "Epoch 100/200\n",
            "2/2 [==============================] - 0s 7ms/step - loss: 37.7195\n",
            "Epoch 101/200\n",
            "2/2 [==============================] - 0s 7ms/step - loss: 36.5156\n",
            "Epoch 102/200\n",
            "2/2 [==============================] - 0s 7ms/step - loss: 35.2816\n",
            "Epoch 103/200\n",
            "2/2 [==============================] - 0s 6ms/step - loss: 33.8869\n",
            "Epoch 104/200\n",
            "2/2 [==============================] - 0s 8ms/step - loss: 32.7368\n",
            "Epoch 105/200\n",
            "2/2 [==============================] - 0s 6ms/step - loss: 31.5235\n",
            "Epoch 106/200\n",
            "2/2 [==============================] - 0s 7ms/step - loss: 30.1239\n",
            "Epoch 107/200\n",
            "2/2 [==============================] - 0s 7ms/step - loss: 29.0543\n",
            "Epoch 108/200\n",
            "2/2 [==============================] - 0s 6ms/step - loss: 27.7141\n",
            "Epoch 109/200\n",
            "2/2 [==============================] - 0s 6ms/step - loss: 26.7731\n",
            "Epoch 110/200\n",
            "2/2 [==============================] - 0s 6ms/step - loss: 25.4663\n",
            "Epoch 111/200\n",
            "2/2 [==============================] - 0s 8ms/step - loss: 24.3385\n",
            "Epoch 112/200\n",
            "2/2 [==============================] - 0s 6ms/step - loss: 23.1559\n",
            "Epoch 113/200\n",
            "2/2 [==============================] - 0s 7ms/step - loss: 22.1906\n",
            "Epoch 114/200\n",
            "2/2 [==============================] - 0s 7ms/step - loss: 21.0188\n",
            "Epoch 115/200\n",
            "2/2 [==============================] - 0s 6ms/step - loss: 19.8138\n",
            "Epoch 116/200\n",
            "2/2 [==============================] - 0s 6ms/step - loss: 18.9530\n",
            "Epoch 117/200\n",
            "2/2 [==============================] - 0s 6ms/step - loss: 18.0064\n",
            "Epoch 118/200\n",
            "2/2 [==============================] - 0s 6ms/step - loss: 16.9459\n",
            "Epoch 119/200\n",
            "2/2 [==============================] - 0s 7ms/step - loss: 16.1127\n",
            "Epoch 120/200\n",
            "2/2 [==============================] - 0s 7ms/step - loss: 15.1980\n",
            "Epoch 121/200\n",
            "2/2 [==============================] - 0s 6ms/step - loss: 14.3919\n",
            "Epoch 122/200\n",
            "2/2 [==============================] - 0s 6ms/step - loss: 13.6576\n",
            "Epoch 123/200\n",
            "2/2 [==============================] - 0s 7ms/step - loss: 12.9890\n",
            "Epoch 124/200\n",
            "2/2 [==============================] - 0s 7ms/step - loss: 12.1817\n",
            "Epoch 125/200\n",
            "2/2 [==============================] - 0s 8ms/step - loss: 11.7035\n",
            "Epoch 126/200\n",
            "2/2 [==============================] - 0s 6ms/step - loss: 10.8813\n",
            "Epoch 127/200\n",
            "2/2 [==============================] - 0s 7ms/step - loss: 10.3823\n",
            "Epoch 128/200\n",
            "2/2 [==============================] - 0s 5ms/step - loss: 9.8193\n",
            "Epoch 129/200\n",
            "2/2 [==============================] - 0s 7ms/step - loss: 9.2775\n",
            "Epoch 130/200\n",
            "2/2 [==============================] - 0s 6ms/step - loss: 8.7701\n",
            "Epoch 131/200\n",
            "2/2 [==============================] - 0s 5ms/step - loss: 8.3432\n",
            "Epoch 132/200\n",
            "2/2 [==============================] - 0s 5ms/step - loss: 7.9572\n",
            "Epoch 133/200\n",
            "2/2 [==============================] - 0s 5ms/step - loss: 7.5859\n",
            "Epoch 134/200\n",
            "2/2 [==============================] - 0s 7ms/step - loss: 7.3247\n",
            "Epoch 135/200\n",
            "2/2 [==============================] - 0s 7ms/step - loss: 6.9198\n",
            "Epoch 136/200\n",
            "2/2 [==============================] - 0s 8ms/step - loss: 6.7048\n",
            "Epoch 137/200\n",
            "2/2 [==============================] - 0s 7ms/step - loss: 6.3030\n",
            "Epoch 138/200\n",
            "2/2 [==============================] - 0s 7ms/step - loss: 6.2505\n",
            "Epoch 139/200\n",
            "2/2 [==============================] - 0s 6ms/step - loss: 5.9422\n",
            "Epoch 140/200\n",
            "2/2 [==============================] - 0s 7ms/step - loss: 5.7028\n",
            "Epoch 141/200\n",
            "2/2 [==============================] - 0s 6ms/step - loss: 5.6051\n",
            "Epoch 142/200\n",
            "2/2 [==============================] - 0s 6ms/step - loss: 5.3341\n",
            "Epoch 143/200\n",
            "2/2 [==============================] - 0s 6ms/step - loss: 5.3001\n",
            "Epoch 144/200\n",
            "2/2 [==============================] - 0s 7ms/step - loss: 5.0746\n",
            "Epoch 145/200\n",
            "2/2 [==============================] - 0s 7ms/step - loss: 5.0408\n",
            "Epoch 146/200\n",
            "2/2 [==============================] - 0s 6ms/step - loss: 4.9179\n",
            "Epoch 147/200\n",
            "2/2 [==============================] - 0s 7ms/step - loss: 4.7749\n",
            "Epoch 148/200\n",
            "2/2 [==============================] - 0s 6ms/step - loss: 4.7122\n",
            "Epoch 149/200\n",
            "2/2 [==============================] - 0s 7ms/step - loss: 4.5869\n",
            "Epoch 150/200\n",
            "2/2 [==============================] - 0s 8ms/step - loss: 4.6390\n",
            "Epoch 151/200\n",
            "2/2 [==============================] - 0s 7ms/step - loss: 4.5346\n",
            "Epoch 152/200\n",
            "2/2 [==============================] - 0s 8ms/step - loss: 4.4837\n",
            "Epoch 153/200\n",
            "2/2 [==============================] - 0s 6ms/step - loss: 4.4950\n",
            "Epoch 154/200\n",
            "2/2 [==============================] - 0s 9ms/step - loss: 4.3208\n",
            "Epoch 155/200\n",
            "2/2 [==============================] - 0s 5ms/step - loss: 4.3039\n",
            "Epoch 156/200\n",
            "2/2 [==============================] - 0s 5ms/step - loss: 4.2665\n",
            "Epoch 157/200\n",
            "2/2 [==============================] - 0s 7ms/step - loss: 4.2271\n",
            "Epoch 158/200\n",
            "2/2 [==============================] - 0s 5ms/step - loss: 4.2000\n",
            "Epoch 159/200\n",
            "2/2 [==============================] - 0s 5ms/step - loss: 4.1592\n",
            "Epoch 160/200\n",
            "2/2 [==============================] - 0s 5ms/step - loss: 4.1395\n",
            "Epoch 161/200\n",
            "2/2 [==============================] - 0s 5ms/step - loss: 4.0905\n",
            "Epoch 162/200\n",
            "2/2 [==============================] - 0s 5ms/step - loss: 4.0679\n",
            "Epoch 163/200\n",
            "2/2 [==============================] - 0s 5ms/step - loss: 4.0564\n",
            "Epoch 164/200\n",
            "2/2 [==============================] - 0s 5ms/step - loss: 4.0322\n",
            "Epoch 165/200\n",
            "2/2 [==============================] - 0s 5ms/step - loss: 4.0195\n",
            "Epoch 166/200\n",
            "2/2 [==============================] - 0s 6ms/step - loss: 3.9686\n",
            "Epoch 167/200\n",
            "2/2 [==============================] - 0s 4ms/step - loss: 3.9795\n",
            "Epoch 168/200\n",
            "2/2 [==============================] - 0s 5ms/step - loss: 3.9328\n",
            "Epoch 169/200\n",
            "2/2 [==============================] - 0s 5ms/step - loss: 3.9175\n",
            "Epoch 170/200\n",
            "2/2 [==============================] - 0s 6ms/step - loss: 3.9054\n",
            "Epoch 171/200\n",
            "2/2 [==============================] - 0s 13ms/step - loss: 3.8698\n",
            "Epoch 172/200\n",
            "2/2 [==============================] - 0s 8ms/step - loss: 3.8762\n",
            "Epoch 173/200\n",
            "2/2 [==============================] - 0s 5ms/step - loss: 3.8528\n",
            "Epoch 174/200\n",
            "2/2 [==============================] - 0s 5ms/step - loss: 3.8266\n",
            "Epoch 175/200\n",
            "2/2 [==============================] - 0s 4ms/step - loss: 3.8567\n",
            "Epoch 176/200\n",
            "2/2 [==============================] - 0s 4ms/step - loss: 3.8328\n",
            "Epoch 177/200\n",
            "2/2 [==============================] - 0s 5ms/step - loss: 3.8208\n",
            "Epoch 178/200\n",
            "2/2 [==============================] - 0s 5ms/step - loss: 3.7580\n",
            "Epoch 179/200\n",
            "2/2 [==============================] - 0s 5ms/step - loss: 3.7672\n",
            "Epoch 180/200\n",
            "2/2 [==============================] - 0s 4ms/step - loss: 3.7514\n",
            "Epoch 181/200\n",
            "2/2 [==============================] - 0s 5ms/step - loss: 3.7069\n",
            "Epoch 182/200\n",
            "2/2 [==============================] - 0s 8ms/step - loss: 3.7092\n",
            "Epoch 183/200\n",
            "2/2 [==============================] - 0s 5ms/step - loss: 3.6761\n",
            "Epoch 184/200\n",
            "2/2 [==============================] - 0s 6ms/step - loss: 3.6898\n",
            "Epoch 185/200\n",
            "2/2 [==============================] - 0s 6ms/step - loss: 3.6534\n",
            "Epoch 186/200\n",
            "2/2 [==============================] - 0s 5ms/step - loss: 3.6582\n",
            "Epoch 187/200\n",
            "2/2 [==============================] - 0s 5ms/step - loss: 3.6658\n",
            "Epoch 188/200\n",
            "2/2 [==============================] - 0s 10ms/step - loss: 3.6117\n",
            "Epoch 189/200\n",
            "2/2 [==============================] - 0s 5ms/step - loss: 3.6059\n",
            "Epoch 190/200\n",
            "2/2 [==============================] - 0s 5ms/step - loss: 3.6315\n",
            "Epoch 191/200\n",
            "2/2 [==============================] - 0s 7ms/step - loss: 3.5439\n",
            "Epoch 192/200\n",
            "2/2 [==============================] - 0s 5ms/step - loss: 3.6554\n",
            "Epoch 193/200\n",
            "2/2 [==============================] - 0s 5ms/step - loss: 3.5780\n",
            "Epoch 194/200\n",
            "2/2 [==============================] - 0s 5ms/step - loss: 3.5335\n",
            "Epoch 195/200\n",
            "2/2 [==============================] - 0s 4ms/step - loss: 3.5398\n",
            "Epoch 196/200\n",
            "2/2 [==============================] - 0s 5ms/step - loss: 3.5678\n",
            "Epoch 197/200\n",
            "2/2 [==============================] - 0s 5ms/step - loss: 3.5720\n",
            "Epoch 198/200\n",
            "2/2 [==============================] - 0s 5ms/step - loss: 3.4868\n",
            "Epoch 199/200\n",
            "2/2 [==============================] - 0s 5ms/step - loss: 3.4542\n",
            "Epoch 200/200\n",
            "2/2 [==============================] - 0s 8ms/step - loss: 3.4255\n"
          ]
        }
      ]
    },
    {
      "cell_type": "code",
      "source": [
        "y_pred = model.predict(xs)\n",
        "plt.plot(xs, y_pred, 'k', label='Predicted')\n",
        "plt.scatter(xs, ys, label='True')\n",
        "plt.legend()\n",
        "plt.xlabel('X Axis')\n",
        "plt.ylabel('Y Axis')\n",
        "plt.title('A plot to show the prediction of the model');"
      ],
      "metadata": {
        "colab": {
          "base_uri": "https://localhost:8080/",
          "height": 295
        },
        "id": "mM6aPyHZzWjd",
        "outputId": "4b0d995c-7292-41d7-ad79-d631e4327448"
      },
      "execution_count": null,
      "outputs": [
        {
          "output_type": "display_data",
          "data": {
            "text/plain": [
              "<Figure size 432x288 with 1 Axes>"
            ],
            "image/png": "[encoded data removed]"
          },
          "metadata": {
            "needs_background": "light"
          }
        }
      ]
    },
    {
      "cell_type": "code",
      "source": [],
      "metadata": {
        "id": "CftEFi51zfIc"
      },
      "execution_count": null,
      "outputs": []
    }
  ]
}